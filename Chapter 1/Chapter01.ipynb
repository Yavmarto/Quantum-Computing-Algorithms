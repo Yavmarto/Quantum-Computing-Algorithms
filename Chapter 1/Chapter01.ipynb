{
 "cells": [
  {
   "cell_type": "markdown",
   "id": "52e939f8-6f5f-46aa-9b02-5612a6b003ad",
   "metadata": {},
   "source": [
    "### Creating and displaying values"
   ]
  },
  {
   "cell_type": "code",
   "execution_count": 1,
   "id": "4decde35-7618-49ff-86ba-61db04dac65d",
   "metadata": {
    "tags": []
   },
   "outputs": [],
   "source": [
    "x = 99"
   ]
  },
  {
   "cell_type": "code",
   "execution_count": 2,
   "id": "98f90b8f-6b5a-4eef-ac92-1be95b63967e",
   "metadata": {
    "tags": []
   },
   "outputs": [
    {
     "name": "stdout",
     "output_type": "stream",
     "text": [
      "99\n"
     ]
    }
   ],
   "source": [
    "print(x)"
   ]
  },
  {
   "cell_type": "code",
   "execution_count": null,
   "id": "c67207a6-39ab-44c2-b68a-8b8e61d09064",
   "metadata": {},
   "outputs": [
    {
     "ename": "",
     "evalue": "",
     "output_type": "error",
     "traceback": [
      "\u001b[1;31mRunning cells with 'miniforge3 (Python 3.10.10)' requires the ipykernel package.\n",
      "\u001b[1;31mRun the following command to install 'ipykernel' into the Python environment. \n",
      "\u001b[1;31mCommand: 'conda install -p /Users/yoshimartodihardjo/miniforge3 ipykernel --update-deps --force-reinstall'"
     ]
    }
   ],
   "source": [
    "x = 1024"
   ]
  },
  {
   "cell_type": "code",
   "execution_count": null,
   "id": "e18840eb-f4b5-4f3c-afa3-1ee12ebfa973",
   "metadata": {
    "tags": []
   },
   "outputs": [
    {
     "ename": "",
     "evalue": "",
     "output_type": "error",
     "traceback": [
      "\u001b[1;31mRunning cells with 'miniforge3 (Python 3.10.10)' requires the ipykernel package.\n",
      "\u001b[1;31mRun the following command to install 'ipykernel' into the Python environment. \n",
      "\u001b[1;31mCommand: 'conda install -p /Users/yoshimartodihardjo/miniforge3 ipykernel --update-deps --force-reinstall'"
     ]
    }
   ],
   "source": [
    "x = 7\n",
    "x = 99\n",
    "x = 1024\n",
    "print(x)\n",
    "print(y)"
   ]
  },
  {
   "cell_type": "code",
   "execution_count": null,
   "id": "3574b8f7-d7a9-4dba-9ac5-ac24a674c710",
   "metadata": {
    "tags": []
   },
   "outputs": [
    {
     "ename": "",
     "evalue": "",
     "output_type": "error",
     "traceback": [
      "\u001b[1;31mRunning cells with 'miniforge3 (Python 3.10.10)' requires the ipykernel package.\n",
      "\u001b[1;31mRun the following command to install 'ipykernel' into the Python environment. \n",
      "\u001b[1;31mCommand: 'conda install -p /Users/yoshimartodihardjo/miniforge3 ipykernel --update-deps --force-reinstall'"
     ]
    }
   ],
   "source": [
    "import time\n",
    "\n",
    "while True:\n",
    "    print('Hello')\n",
    "    time.sleep(1)"
   ]
  },
  {
   "cell_type": "markdown",
   "id": "272c64df-ffd5-4193-a486-99e7941db699",
   "metadata": {},
   "source": [
    "### Matrices in Python"
   ]
  },
  {
   "cell_type": "code",
   "execution_count": 3,
   "id": "9e394d3f-2c6a-468b-ab2e-6c1245ef1bfe",
   "metadata": {
    "tags": []
   },
   "outputs": [],
   "source": [
    "import numpy as np"
   ]
  },
  {
   "cell_type": "code",
   "execution_count": 4,
   "id": "8fe4e24b-c9b2-434b-ae5c-f618ebb4cf20",
   "metadata": {
    "tags": []
   },
   "outputs": [
    {
     "name": "stdout",
     "output_type": "stream",
     "text": [
      "[[  8 -12   0]\n",
      " [  4  20  76]]\n"
     ]
    }
   ],
   "source": [
    "A = np.matrix( [[2, -3, 0],  \n",
    "                [1, 5, 19]] )\n",
    "print(np.dot(4, A))"
   ]
  },
  {
   "cell_type": "code",
   "execution_count": 5,
   "id": "9279894d-0112-44b1-9926-0babb2b94ed0",
   "metadata": {
    "tags": []
   },
   "outputs": [
    {
     "name": "stdout",
     "output_type": "stream",
     "text": [
      "[[32]]\n"
     ]
    }
   ],
   "source": [
    "A = np.matrix( [[5, 1, 3]] )\n",
    "B = np.matrix( [[2],  \n",
    "                [4],  \n",
    "                [6]] )\n",
    "print(np.dot(A, B))"
   ]
  },
  {
   "cell_type": "code",
   "execution_count": 6,
   "id": "7e23ecf3-450f-4c3f-819a-9bd03a593dfb",
   "metadata": {
    "tags": []
   },
   "outputs": [
    {
     "name": "stdout",
     "output_type": "stream",
     "text": [
      "[[ 5 16]\n",
      " [23 34]]\n"
     ]
    }
   ],
   "source": [
    "A = np.matrix( [[1, 3, 2],   \n",
    "                [4, 0, -1]] )\n",
    "B = np.matrix( [[5, 10],     \n",
    "                [2, -2],  \n",
    "                [-3, 6]] )\n",
    "print(np.dot(A, B)) "
   ]
  },
  {
   "cell_type": "code",
   "execution_count": 7,
   "id": "0404ede6-d788-4db0-b359-afd989c02d3f",
   "metadata": {
    "tags": []
   },
   "outputs": [
    {
     "name": "stdout",
     "output_type": "stream",
     "text": [
      "[[ 5 16]\n",
      " [23 34]]\n"
     ]
    }
   ],
   "source": [
    "print(A * B)"
   ]
  },
  {
   "cell_type": "code",
   "execution_count": 8,
   "id": "b19d9cbe-7fcd-4f37-9761-941b8acbe6de",
   "metadata": {
    "tags": []
   },
   "outputs": [
    {
     "name": "stdout",
     "output_type": "stream",
     "text": [
      "[[15]\n",
      " [12]\n",
      " [10]\n",
      " [ 8]]\n"
     ]
    }
   ],
   "source": [
    "A = np.matrix( [[3], \n",
    "                [2]] )\n",
    "B = np.matrix( [[5], \n",
    "                [4]] )\n",
    "print(np.kron(A, B))"
   ]
  },
  {
   "cell_type": "markdown",
   "id": "5131e5c3-e330-4f72-b07c-96550e9a1200",
   "metadata": {},
   "source": [
    "### Exercise 8"
   ]
  },
  {
   "cell_type": "code",
   "execution_count": 9,
   "id": "b34be683-f260-4900-8818-f94bd49ec42d",
   "metadata": {
    "tags": []
   },
   "outputs": [
    {
     "name": "stdout",
     "output_type": "stream",
     "text": [
      "[[ 7 17  5]\n",
      " [14 -9  7]]\n",
      "[[ 7 17  5]\n",
      " [14 -9  7]]\n"
     ]
    }
   ],
   "source": [
    "import numpy as np\n",
    "\n",
    "A = np.matrix( [[1, 2, 3, 0],\n",
    "                [2, 1, -1, 3]] )\n",
    "B = np.matrix( [[1, 1, -2],\n",
    "                [3, 2, -1],\n",
    "                [0, 4, 3],\n",
    "                [3, -3, 5]] )\n",
    "print(np.dot(A, B))\n",
    "print(A * B)"
   ]
  },
  {
   "cell_type": "code",
   "execution_count": 10,
   "id": "d1b0214b-9bd9-4b59-b0eb-72f2aabb93ff",
   "metadata": {
    "tags": []
   },
   "outputs": [
    {
     "name": "stdout",
     "output_type": "stream",
     "text": [
      "[[16  8  0]\n",
      " [ 2  6 10]\n",
      " [24 12  0]\n",
      " [ 3  9 15]\n",
      " [ 8  4  0]\n",
      " [ 1  3  5]]\n"
     ]
    }
   ],
   "source": [
    "import numpy as np\n",
    "\n",
    "A = np.matrix( [[2],\n",
    "                [3],\n",
    "                [1]] )\n",
    "B = np.matrix( [[8, 4, 0],\n",
    "                [1, 3, 5]] )\n",
    "print(np.kron(A, B))"
   ]
  }
 ],
 "metadata": {
  "kernelspec": {
   "display_name": "Python 3 (ipykernel)",
   "language": "python",
   "name": "python3"
  },
  "language_info": {
   "codemirror_mode": {
    "name": "ipython",
    "version": 3
   },
   "file_extension": ".py",
   "mimetype": "text/x-python",
   "name": "python",
   "nbconvert_exporter": "python",
   "pygments_lexer": "ipython3",
   "version": "3.12.4"
  },
  "widgets": {
   "application/vnd.jupyter.widget-state+json": {
    "state": {},
    "version_major": 2,
    "version_minor": 0
   }
  }
 },
 "nbformat": 4,
 "nbformat_minor": 5
}
