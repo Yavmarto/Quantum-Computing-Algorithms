{
 "cells": [
  {
   "cell_type": "markdown",
   "id": "57d2c9cf-e2f4-4b42-8271-e6cb30d0cc2b",
   "metadata": {},
   "source": [
    "### Qiskit code for the BB84 algorithm"
   ]
  },
  {
   "cell_type": "code",
   "execution_count": 1,
   "id": "77dd79fd-1a68-496f-b3f8-85b6adf5f1c9",
   "metadata": {
    "tags": []
   },
   "outputs": [],
   "source": [
    "import random\n",
    "from qiskit_aer import Aer\n",
    "from qiskit.compiler import transpile\n",
    "\n",
    "from qiskit import QuantumCircuit, QuantumRegister, ClassicalRegister\n",
    "\n",
    "NUMBER_OF_CIRCUITS = 100\n",
    "DOES_EVE_EXIST = False\n",
    "CHECK_MARK = u'\\u2713'"
   ]
  },
  {
   "cell_type": "code",
   "execution_count": 2,
   "id": "830f9a18-1593-4351-a28c-fa9df03b35c2",
   "metadata": {
    "tags": []
   },
   "outputs": [],
   "source": [
    "def create_registers(eve_exists):\n",
    "    alice_q = QuantumRegister(1, 'alice_q')\n",
    "    bob_q = QuantumRegister(1, 'bob_q')\n",
    "    bob_c = ClassicalRegister(1, 'bob_c')\n",
    "\n",
    "    if eve_exists:\n",
    "        eve_c = ClassicalRegister(1, 'eve_c')\n",
    "        circ = QuantumCircuit(alice_q, bob_q, bob_c, eve_c)\n",
    "    else:\n",
    "        circ = QuantumCircuit(alice_q, bob_q, bob_c)\n",
    "    return circ"
   ]
  },
  {
   "cell_type": "code",
   "execution_count": 4,
   "id": "dcc5a25b-5962-4edf-8b94-91f23bbe4add",
   "metadata": {
    "tags": []
   },
   "outputs": [],
   "source": [
    "def setup_alice(circ):\n",
    "    alice_q = circ.qubits[0]\n",
    "\n",
    "    if random.getrandbits(1):\n",
    "        circ.x(alice_q)\n",
    "\n",
    "    if random.getrandbits(1):\n",
    "        circ.h(alice_q)\n",
    "\n",
    "    return circ\n",
    "\n",
    "\n",
    "def setup_bob(circ):\n",
    "    bob_q = circ.qubits[1]\n",
    "    bob_c = circ.clbits[0]\n",
    "\n",
    "    if random.getrandbits(1):\n",
    "        circ.h(bob_q)\n",
    "\n",
    "    circ.measure(bob_q, bob_c)\n",
    "    return circ\n",
    "\n",
    "\n",
    "def setup_eve(circ):\n",
    "    bob_q = circ.qubits[1]\n",
    "    eve_c = circ.clbits[1]\n",
    "\n",
    "    circ.barrier()\n",
    "    circ.measure(bob_q, eve_c)\n",
    "    circ.barrier()\n",
    "    return circ"
   ]
  },
  {
   "cell_type": "code",
   "execution_count": 5,
   "id": "047d1fd8-beee-4b9b-bc26-400bb7be1dd0",
   "metadata": {
    "tags": []
   },
   "outputs": [],
   "source": [
    "def make_new_circuit(eve_exists):\n",
    "    circ = create_registers(eve_exists)\n",
    "    alice_q = circ.qubits[0]\n",
    "    bob_q = circ.qubits[1]\n",
    "    bob_c = circ.clbits[0]\n",
    "\n",
    "    circ = setup_alice(circ)\n",
    "\n",
    "    circ.swap(alice_q, bob_q)\n",
    "\n",
    "    if eve_exists:\n",
    "        circ = setup_eve(circ)\n",
    "\n",
    "    circ = setup_bob(circ)\n",
    "\n",
    "    return circ"
   ]
  },
  {
   "cell_type": "code",
   "execution_count": 6,
   "id": "b26c3a92-0997-44ae-a62a-833c4eb2531b",
   "metadata": {
    "tags": []
   },
   "outputs": [],
   "source": [
    "def create_circuits(how_many, does_eve_exist):\n",
    "    circuits = []\n",
    "    for i in range(how_many):\n",
    "        circuits.append(make_new_circuit(does_eve_exist)) \n",
    "    return circuits"
   ]
  },
  {
   "cell_type": "code",
   "execution_count": 18,
   "id": "754de332-2680-458d-9e68-ca2913fa97ae",
   "metadata": {
    "tags": []
   },
   "outputs": [],
   "source": [
    "def run_the_job(circuits):\n",
    "    device = Aer.get_backend('qasm_simulator')\n",
    "    shots=1\n",
    "    qc_transpiled = transpile(circuits, backend=device)\n",
    "\n",
    "    job = device.run(qc_transpiled, shots=shots, memory=True)\n",
    "    return job.result()"
   ]
  },
  {
   "cell_type": "code",
   "execution_count": 8,
   "id": "9feab346-f4a8-4b08-9de3-da5daf3dd05d",
   "metadata": {
    "tags": []
   },
   "outputs": [],
   "source": [
    "def print_alice_bits(circuits):\n",
    "    print('alice bits: ', end='')\n",
    "    for circ in circuits:\n",
    "        bit = 1 if 'x' in circ.count_ops() else 0\n",
    "        print(bit, end='')\n",
    "    print('')"
   ]
  },
  {
   "cell_type": "code",
   "execution_count": 9,
   "id": "0ad1732e-c509-4b76-a7fc-4a0c90dca190",
   "metadata": {
    "tags": []
   },
   "outputs": [],
   "source": [
    "def bob_bit_value(circ, memory):\n",
    "    return memory[0][0]"
   ]
  },
  {
   "cell_type": "code",
   "execution_count": 10,
   "id": "6edef2af-fced-4f16-a4d2-9c042681203d",
   "metadata": {
    "tags": []
   },
   "outputs": [],
   "source": [
    "def print_bob_bits(circuits, result):\n",
    "    print('bob bits  : ', end='')\n",
    "    for circ in circuits:\n",
    "        memory = result.get_memory(circ)\n",
    "        print(bob_bit_value(circ, memory), end='')\n",
    "    print('')"
   ]
  },
  {
   "cell_type": "code",
   "execution_count": 11,
   "id": "37fd9d07-2899-4485-85b8-90016aa3d539",
   "metadata": {
    "tags": []
   },
   "outputs": [],
   "source": [
    "def had_agreement(circ):\n",
    "    gate_counts = circ.count_ops()\n",
    "    return not ('h' in gate_counts and gate_counts['h'] == 1)"
   ]
  },
  {
   "cell_type": "code",
   "execution_count": 12,
   "id": "6f4bc208-da32-4a50-ab09-fc21f5cb5f14",
   "metadata": {
    "tags": []
   },
   "outputs": [],
   "source": [
    "def print_had_agreements(circuits):\n",
    "    number_of_agreements = 0\n",
    "    print('hads agree? ', end='')\n",
    "    for circ in circuits:\n",
    "        if had_agreement(circ):\n",
    "            print(CHECK_MARK, end='')\n",
    "            number_of_agreements += 1\n",
    "        else:\n",
    "            print(' ', end='')\n",
    "    print('')\n",
    "    return number_of_agreements"
   ]
  },
  {
   "cell_type": "code",
   "execution_count": 13,
   "id": "28948bd2-6a43-4bf7-9276-10bbd2c8d742",
   "metadata": {
    "tags": []
   },
   "outputs": [],
   "source": [
    "def alice_bit_value(circ):\n",
    "    return 1 if 'x' in circ.count_ops() else 0"
   ]
  },
  {
   "cell_type": "code",
   "execution_count": 14,
   "id": "b79b547f-b144-4db5-a605-b31f82bd53b9",
   "metadata": {
    "tags": []
   },
   "outputs": [],
   "source": [
    "def bit_value_agreement(circ, result):\n",
    "    memory = result.get_memory(circ)\n",
    "    return alice_bit_value(circ) == int(\n",
    "        bob_bit_value(circ, memory))"
   ]
  },
  {
   "cell_type": "code",
   "execution_count": 15,
   "id": "b8774cbc-9681-4ff3-b1e2-a87e015eeab5",
   "metadata": {
    "tags": []
   },
   "outputs": [],
   "source": [
    "def print_bit_agreements(circuits, result,\n",
    "                         number_of_agreements):\n",
    "    number_tested = 0\n",
    "    is_eve_detected = False\n",
    "    i = 0\n",
    "\n",
    "    print('bits agree? ', end='')\n",
    "    while number_tested < number_of_agreements // 2:\n",
    "        if had_agreement(circuits[i]):\n",
    "            if bit_value_agreement(circuits[i], result):\n",
    "                print(CHECK_MARK, end='')\n",
    "                number_tested += 1\n",
    "            else:\n",
    "                is_eve_detected = True\n",
    "                print('X')\n",
    "                break\n",
    "        else:\n",
    "            print(' ', end='')\n",
    "        i += 1\n",
    "\n",
    "    print()\n",
    "\n",
    "    return i, is_eve_detected"
   ]
  },
  {
   "cell_type": "code",
   "execution_count": 16,
   "id": "f4f9b2f7-4e7e-4e25-9863-6036bb74a61b",
   "metadata": {
    "tags": []
   },
   "outputs": [],
   "source": [
    "def print_key(circuits, number_of_circuits, how_many_for_testing):\n",
    "    print('key       :', end='')\n",
    "    for i in range(how_many_for_testing + 1):\n",
    "        print(' ', end='')\n",
    "    for i in range(i, NUMBER_OF_CIRCUITS):\n",
    "        if had_agreement(circuits[i]):\n",
    "            print(alice_bit_value(circuits[i]), end='')\n",
    "        else:\n",
    "            print(' ', end='')"
   ]
  },
  {
   "cell_type": "code",
   "execution_count": 19,
   "id": "ab4fdda0-bbf9-4aaa-8752-6540eb71e9a4",
   "metadata": {
    "tags": []
   },
   "outputs": [
    {
     "name": "stdout",
     "output_type": "stream",
     "text": [
      "alice bits: 1101111101010010000111111000111111010110110000100111001101100010000010010101010010011110111000111011\n",
      "bob bits  : 1101111101011100000010000100011111010110110000100101101101011010000111001111010010111111001101110010\n",
      "hads agree? ✓✓✓✓  ✓ ✓✓ ✓   ✓✓ ✓ ✓     ✓✓ ✓✓✓✓ ✓✓✓ ✓✓ ✓✓✓✓ ✓✓✓✓ ✓ ✓✓✓      ✓✓           ✓ ✓✓    ✓✓ ✓   ✓ ✓ ✓   ✓ \n",
      "bits agree? ✓✓✓✓  ✓ ✓✓ ✓   ✓✓ ✓ ✓     ✓✓ ✓✓✓✓ ✓✓✓ ✓✓\n",
      "key       :                                          1000 1001 1 011      10           1 10    11 1   1 0 1   1 "
     ]
    }
   ],
   "source": [
    "circuits = create_circuits(NUMBER_OF_CIRCUITS,\n",
    "                           DOES_EVE_EXIST)             # 1\n",
    "\n",
    "result = run_the_job(circuits)                         # 2\n",
    "\n",
    "print_alice_bits(circuits)                             # 3\n",
    "\n",
    "print_bob_bits(circuits, result)                       # 4\n",
    "\n",
    "number_of_agreements = print_had_agreements(circuits)  # 5\n",
    "\n",
    "how_many_for_testing, is_eve_detected = \\\n",
    "    print_bit_agreements(circuits, result,\n",
    "                         number_of_agreements)         # 6\n",
    "\n",
    "if is_eve_detected:                                    # 7\n",
    "    print('INTRUDER ALERT!')\n",
    "else:\n",
    "    print_key(circuits, NUMBER_OF_CIRCUITS,\n",
    "              how_many_for_testing) "
   ]
  },
  {
   "cell_type": "markdown",
   "id": "cc0af498-19b8-4be2-8092-90237ba8a93a",
   "metadata": {},
   "source": [
    "### Question 6"
   ]
  },
  {
   "cell_type": "code",
   "execution_count": 21,
   "id": "33e294a5-3849-4b0e-80b6-b3892bd08de1",
   "metadata": {
    "tags": []
   },
   "outputs": [
    {
     "data": {
      "image/png": "[encoded data removed]",
      "text/plain": [
       "<Figure size 602.425x284.278 with 1 Axes>"
      ]
     },
     "metadata": {},
     "output_type": "display_data"
    }
   ],
   "source": [
    "from qiskit import QuantumRegister, QuantumCircuit\n",
    "from math import pi\n",
    "import random\n",
    "alice_q = QuantumRegister(1, 'alice_q')\n",
    "bob_q = QuantumRegister(1, 'bob_q')\n",
    "circ = QuantumCircuit(alice_q, bob_q)\n",
    "circ.ry(pi/(random.uniform(2, 20)), alice_q[0])\n",
    "circ.cx(0, 1)\n",
    "circ.measure_all()\n",
    "display(circ.draw('mpl'))"
   ]
  },
  {
   "cell_type": "markdown",
   "id": "eec91451-2a70-405d-8c3a-ab2bb5c60fc6",
   "metadata": {},
   "source": [
    "### Question 7"
   ]
  },
  {
   "cell_type": "code",
   "execution_count": 22,
   "id": "718262e6-5b96-47e8-9fe1-515f89d6bbed",
   "metadata": {},
   "outputs": [],
   "source": [
    "def setup_eve(circ):\n",
    "    bob_q = circ.qubits[1]\n",
    "    eve_c = circ.clbits[1]\n",
    "    \n",
    "    has_had = random.getrandbits(1)\n",
    "    circ.barrier()\n",
    "    if has_had:\n",
    "        circ.h(bob_q)\n",
    "    circ.measure(bob_q, eve_c)\n",
    "    if has_had:\n",
    "        circ.h(bob_q)\n",
    "    circ.barrier()\n",
    "    return circ\n",
    "\n",
    "def had_agreement(circ):\n",
    "    gate_counts = circ.count_ops()\n",
    "    return not ('h' in gate_counts and gate_counts['h'] % 2 == 1)"
   ]
  }
 ],
 "metadata": {
  "kernelspec": {
   "display_name": "Python 3 (ipykernel)",
   "language": "python",
   "name": "python3"
  },
  "language_info": {
   "codemirror_mode": {
    "name": "ipython",
    "version": 3
   },
   "file_extension": ".py",
   "mimetype": "text/x-python",
   "name": "python",
   "nbconvert_exporter": "python",
   "pygments_lexer": "ipython3",
   "version": "3.12.4"
  },
  "widgets": {
   "application/vnd.jupyter.widget-state+json": {
    "state": {},
    "version_major": 2,
    "version_minor": 0
   }
  }
 },
 "nbformat": 4,
 "nbformat_minor": 5
}
