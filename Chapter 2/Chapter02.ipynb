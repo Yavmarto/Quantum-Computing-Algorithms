{
 "cells": [
  {
   "cell_type": "markdown",
   "id": "01df551e-ba87-4a6a-a149-1c0a3b4d9bff",
   "metadata": {},
   "source": [
    "### Creating and running a quantum circuit"
   ]
  },
  {
   "cell_type": "code",
   "execution_count": 7,
   "id": "b358649d-9501-46c3-9f11-1f6bd21acb45",
   "metadata": {
    "tags": []
   },
   "outputs": [
    {
     "data": {
      "text/plain": [
       "<qiskit.circuit.instructionset.InstructionSet at 0x13593ffa0>"
      ]
     },
     "execution_count": 7,
     "metadata": {},
     "output_type": "execute_result"
    }
   ],
   "source": [
    "from qiskit import QuantumRegister, \\\n",
    "    ClassicalRegister, QuantumCircuit\n",
    "\n",
    "qReg = QuantumRegister(1, 'q')\n",
    "cReg = ClassicalRegister(1, 'c')\n",
    "circuit = QuantumCircuit(qReg, cReg)\n",
    "circuit.h(qReg[0])\n",
    "circuit.measure(qReg[0], cReg[0])\n",
    "# display(circuit.draw('latex'))"
   ]
  },
  {
   "cell_type": "code",
   "execution_count": 8,
   "id": "e6c091d6-9da7-43ce-9435-08bdd0bebb5c",
   "metadata": {
    "tags": []
   },
   "outputs": [],
   "source": [
    "from qiskit_aer import Aer\n",
    "device = Aer.get_backend('qasm_simulator')"
   ]
  },
  {
   "cell_type": "code",
   "execution_count": 15,
   "id": "187a1ab4-fc39-474a-8f86-39df7cb8a40a",
   "metadata": {
    "tags": []
   },
   "outputs": [
    {
     "name": "stdout",
     "output_type": "stream",
     "text": [
      "{'0': 516, '1': 508}\n"
     ]
    },
    {
     "data": {
      "image/png": "[encoded data removed]",
      "text/plain": [
       "<Figure size 640x480 with 1 Axes>"
      ]
     },
     "metadata": {},
     "output_type": "display_data"
    }
   ],
   "source": [
    "from qiskit.compiler import transpile\n",
    "from qiskit.visualization import plot_histogram\n",
    "\n",
    "qc_transpiled = transpile(circuit, backend=device)\n",
    "backend = Aer.get_backend('qasm_simulator')\n",
    "job = backend.run(qc_transpiled)\n",
    "result = job.result()\n",
    "counts = result.get_counts(circuit)\n",
    "\n",
    "print(counts)\n",
    "display(plot_histogram(counts))"
   ]
  },
  {
   "cell_type": "markdown",
   "id": "c3787db1-ec30-41c6-839a-384c7d28fd05",
   "metadata": {},
   "source": [
    "### Finding a backend"
   ]
  },
  {
   "cell_type": "code",
   "execution_count": 19,
   "id": "ca9c1e8e-44e3-40d7-aa10-cc7603c25999",
   "metadata": {
    "tags": []
   },
   "outputs": [
    {
     "name": "stdout",
     "output_type": "stream",
     "text": [
      "<IBMBackend('ibm_brisbane')>\n",
      "<IBMBackend('ibm_kyoto')>\n",
      "<IBMBackend('ibm_osaka')>\n",
      "<IBMBackend('ibm_sherbrooke')>\n"
     ]
    }
   ],
   "source": [
    "import os\n",
    "from dotenv import load_dotenv\n",
    "\n",
    "# Load environment variables from .env file\n",
    "load_dotenv()\n",
    "\n",
    "# Access the token\n",
    "IBMtoken = os.getenv('TOKEN')\n",
    "\n",
    "from qiskit_ibm_runtime import QiskitRuntimeService\n",
    "from qiskit.transpiler.preset_passmanagers import generate_preset_pass_manager\n",
    "\n",
    "# Now you can use the token in your project\n",
    "# If you did not previously save your credentials, use the following line instead:\n",
    "service = QiskitRuntimeService(channel=\"ibm_quantum\", token=IBMtoken)\n",
    " \n",
    "IBM_cloud_backends = service.backends()\n",
    "\n",
    "for i in IBM_cloud_backends: \n",
    "    print(i)   "
   ]
  },
  {
   "cell_type": "markdown",
   "id": "bde3b881-7f71-49b3-992b-3c1ccba9a537",
   "metadata": {},
   "source": [
    "### Drawing circuits"
   ]
  },
  {
   "cell_type": "code",
   "execution_count": null,
   "id": "d7df633e-f5f9-41be-bbe9-cfbdba56cba0",
   "metadata": {
    "tags": []
   },
   "outputs": [],
   "source": [
    "from qiskit import QuantumRegister, \\\n",
    "    ClassicalRegister, QuantumCircuit\n",
    "\n",
    "qReg = QuantumRegister(2, 'q')\n",
    "qRegNew = QuantumRegister(2, 'qNew')\n",
    "cReg = ClassicalRegister(2, 'c')\n",
    "cRegNew = ClassicalRegister(1, 'cNew')\n",
    "circuit = QuantumCircuit(qReg, qRegNew, cReg, cRegNew)\n",
    "display(circuit.draw('latex'))"
   ]
  },
  {
   "cell_type": "markdown",
   "id": "616aaf45-b480-468e-a46d-0c138c04d23e",
   "metadata": {},
   "source": [
    "### Creating a circuit with very little code"
   ]
  },
  {
   "cell_type": "code",
   "execution_count": null,
   "id": "c1332726-0dca-4d0d-b629-b1ea9a3ee9ea",
   "metadata": {
    "tags": []
   },
   "outputs": [],
   "source": [
    "from qiskit import QuantumCircuit\n",
    "\n",
    "circuit = QuantumCircuit(1, 1)\n",
    "circuit.h(0)\n",
    "circuit.measure([0], [0])\n",
    "display(circuit.draw('latex'))"
   ]
  },
  {
   "cell_type": "code",
   "execution_count": null,
   "id": "fe1e9755-6f72-4964-bb23-53f6f2c7cad6",
   "metadata": {
    "tags": []
   },
   "outputs": [],
   "source": [
    "from qiskit import QuantumCircuit\n",
    "\n",
    "circuit = QuantumCircuit(2, 4)\n",
    "circuit.h(0)\n",
    "circuit.barrier()\n",
    "circuit.measure([1, 0], [2, 3])\n",
    "display(circuit.draw('latex'))"
   ]
  },
  {
   "cell_type": "code",
   "execution_count": null,
   "id": "54d31085-fa11-4c36-80b8-8218baa54a41",
   "metadata": {
    "tags": []
   },
   "outputs": [],
   "source": [
    "from qiskit import QuantumCircuit\n",
    "\n",
    "circuit = QuantumCircuit(2)\n",
    "circuit.h([0, 1])\n",
    "circuit.measure_all()\n",
    "display(circuit.draw('latex'))"
   ]
  },
  {
   "cell_type": "code",
   "execution_count": null,
   "id": "1a49bd29-12d1-4e8e-9611-ec1b19d46010",
   "metadata": {},
   "outputs": [],
   "source": []
  }
 ],
 "metadata": {
  "kernelspec": {
   "display_name": "Python 3 (ipykernel)",
   "language": "python",
   "name": "python3"
  },
  "language_info": {
   "codemirror_mode": {
    "name": "ipython",
    "version": 3
   },
   "file_extension": ".py",
   "mimetype": "text/x-python",
   "name": "python",
   "nbconvert_exporter": "python",
   "pygments_lexer": "ipython3",
   "version": "3.12.4"
  },
  "widgets": {
   "application/vnd.jupyter.widget-state+json": {
    "state": {},
    "version_major": 2,
    "version_minor": 0
   }
  }
 },
 "nbformat": 4,
 "nbformat_minor": 5
}
